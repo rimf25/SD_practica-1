{
 "cells": [
  {
   "cell_type": "markdown",
   "metadata": {},
   "source": [
    "Universidad Nacional Experimental de Guayana\n",
    "\n",
    "Sistemas Distribuidos, Sección 1\n",
    "\n",
    "Bachilleres:    Geruby Bermúdez\n",
    "                Ricardo Muñoz\n",
    "                \n",
    "                                                Práctica 1"
   ]
  },
  {
   "cell_type": "markdown",
   "metadata": {},
   "source": [
    "Busque las páginas web referidas al personaje: Leslie Lamport. Guardando los resultados en un archivo csv.\n",
    "\n",
    "\n",
    "\n",
    "\n",
    "Diagrama UML del ejercicio:\n",
    "\n",
    "\n",
    "\n",
    "<img src=\"umlgoogle.jpg\">\n"
   ]
  },
  {
   "cell_type": "markdown",
   "metadata": {},
   "source": [
    "Trabajaremos con:\n",
    "\n",
    "-Librería requests, que facilita peticiones de HTTP.\n",
    "\n",
    "-Clase HTMLSession de la librería requests_html, que nos ayudará a parsear el resultado.\n",
    "\n",
    "-Librería pandas, usada para manipulación de datos."
   ]
  },
  {
   "cell_type": "code",
   "execution_count": 24,
   "metadata": {},
   "outputs": [],
   "source": [
    "from requests import session\n",
    "from requests_html import HTMLSession\n",
    "import pandas as pd"
   ]
  },
  {
   "cell_type": "markdown",
   "metadata": {},
   "source": [
    "-Esta funcion recibe como parametro la url completa de la busqueda usando la clase html session\n",
    "\n",
    "-Primero construimos un objeto session, luego con la funcion get del objeto htmlsesssion obtenemos el codigo fuente de la url\n",
    "\n",
    "-Como resultado, en response estará todo el codigo fuente de la busqueda "
   ]
  },
  {
   "cell_type": "code",
   "execution_count": 25,
   "metadata": {},
   "outputs": [],
   "source": [
    "def get_source(url):\n",
    "    session = HTMLSession()\n",
    "    response = session.get(url)\n",
    "    return response"
   ]
  },
  {
   "cell_type": "markdown",
   "metadata": {},
   "source": [
    "-Para extraer datos necesarios, creamos la función parse_results a la que le pasaremos el codigo fuente.\n",
    "\n",
    "-Identificamos en que clase del codigo estan los resultados que necesitamos, donde nos interesa el titulo y el link. Por lo tanto, se definen los identificadores que se necesitan.\n",
    "\n",
    "-Se crea una lista llamada results, depositando todos los resultados, usando el metodo find, donde se pasa el identificador\n",
    "de los retultados.\n",
    "\n",
    "-Se crea una lista vacia llamada output, y despues la llenamos con un for."
   ]
  },
  {
   "cell_type": "code",
   "execution_count": 26,
   "metadata": {},
   "outputs": [],
   "source": [
    "def parse_results(response):\n",
    "     css_identifier_resultado=\".GLI8Bc\"\n",
    "     css_identifier_titulo = \"h3\"\n",
    "     css_identifier_link = \".yuRUbf a\"\n",
    "\n",
    "     results = response.html.find(css_identifier_resultado)\n",
    "\n",
    "     output =[]\n",
    "\n",
    "     for result in results:\n",
    "        item = {\n",
    "            'titulo': result.find(css_identifier_titulo, first=True).text,\n",
    "            'link': result.find(css_identifier_link, first=True).attrs['href']\n",
    "        }\n",
    "\n",
    "        output.append(item)\n",
    "     return output"
   ]
  },
  {
   "cell_type": "markdown",
   "metadata": {},
   "source": [
    "-En esta funcion depositamos el link que deseamos parsear, en ella usamos la funcion get source que nos devolverá el código fuente."
   ]
  },
  {
   "cell_type": "code",
   "execution_count": 27,
   "metadata": {},
   "outputs": [],
   "source": [
    "def google_search():\n",
    "    response = get_source(\"https://www.google.com/search?q=Leslie+Lamport\")\n",
    "    return parse_results(response)"
   ]
  },
  {
   "cell_type": "markdown",
   "metadata": {},
   "source": [
    "-El resultado obtenido de la función google_search lo depositamos en la variable resultado_final"
   ]
  },
  {
   "cell_type": "code",
   "execution_count": 28,
   "metadata": {},
   "outputs": [],
   "source": [
    "resultado_final = google_search()"
   ]
  },
  {
   "cell_type": "markdown",
   "metadata": {},
   "source": [
    "-Creamos un documento csv en una carpeta de la pc.\n",
    "\n",
    "-Abrimos el archivo con una interaccion para cada vez que se ejecute ses vuelva a escribir a partir del ultimo documento."
   ]
  },
  {
   "cell_type": "code",
   "execution_count": 29,
   "metadata": {},
   "outputs": [],
   "source": [
    "mi_path =\"C:/Users/Admin/Documents/.Informática/Practica1 SistemasD/listagoogle.csv\"\n",
    "f = open(mi_path, 'a+')"
   ]
  },
  {
   "cell_type": "markdown",
   "metadata": {},
   "source": [
    "-Hacermos un for para recorrer el archivo csv, hasta que se acabe la lista y se cierra el documento csv"
   ]
  },
  {
   "cell_type": "code",
   "execution_count": 30,
   "metadata": {},
   "outputs": [],
   "source": [
    "for i in resultado_final:\n",
    "    var = i.get('titulo') +\",\"+ i.get('link')\n",
    "    f.write(var)\n",
    "    f.write(';')\n",
    "f.close()"
   ]
  },
  {
   "cell_type": "markdown",
   "metadata": {},
   "source": [
    "<img src=\"ejemplogoogle.jpg\">"
   ]
  },
  {
   "cell_type": "markdown",
   "metadata": {},
   "source": [
    "-Usando la función de panda read_csv, indicando el nombre del archivo para mostrar el dateframe."
   ]
  },
  {
   "cell_type": "code",
   "execution_count": 31,
   "metadata": {},
   "outputs": [],
   "source": [
    "dataframe = pd.read_csv('listagoogle.csv')"
   ]
  },
  {
   "cell_type": "code",
   "execution_count": 32,
   "metadata": {},
   "outputs": [
    {
     "data": {
      "text/html": [
       "<div>\n",
       "<style scoped>\n",
       "    .dataframe tbody tr th:only-of-type {\n",
       "        vertical-align: middle;\n",
       "    }\n",
       "\n",
       "    .dataframe tbody tr th {\n",
       "        vertical-align: top;\n",
       "    }\n",
       "\n",
       "    .dataframe thead th {\n",
       "        text-align: right;\n",
       "    }\n",
       "</style>\n",
       "<table border=\"1\" class=\"dataframe\">\n",
       "  <thead>\n",
       "    <tr style=\"text-align: right;\">\n",
       "      <th></th>\n",
       "      <th>Leslie Lamport - Wikipedia</th>\n",
       "      <th>la enciclopedia libre</th>\n",
       "      <th>https://es.wikipedia.org/wiki/Leslie_Lamport;Leslie Lamport's Home Page</th>\n",
       "      <th>http://www.lamport.org/;Leslie Lamport at Microsoft Research</th>\n",
       "      <th>https://www.microsoft.com/en-us/research/people/lamport/;Leslie Lamport - Ciberninjas</th>\n",
       "      <th>https://ciberninjas.com/leslie-lamport/;Leslie Lamport - A.M. Turing Award Laureate</th>\n",
       "      <th>https://amturing.acm.org/award_winners/lamport_1205376.cfm;Leslie Lamport | Turing Award</th>\n",
       "      <th>Biography</th>\n",
       "      <th>&amp; Facts</th>\n",
       "      <th>https://www.britannica.com/biography/Leslie-Lamport;Leslie Lamport - Wikipedia</th>\n",
       "      <th>la enciclopedia libre.1</th>\n",
       "      <th>https://es.wikipedia.org/wiki/Leslie_Lamport;Leslie Lamport's Home Page.1</th>\n",
       "      <th>http://www.lamport.org/;Leslie Lamport at Microsoft Research.1</th>\n",
       "      <th>https://www.microsoft.com/en-us/research/people/lamport/;Leslie Lamport - Ciberninjas.1</th>\n",
       "      <th>https://ciberninjas.com/leslie-lamport/;Leslie Lamport - A.M. Turing Award Laureate.1</th>\n",
       "      <th>https://amturing.acm.org/award_winners/lamport_1205376.cfm;Leslie Lamport | Turing Award.1</th>\n",
       "      <th>Biography.1</th>\n",
       "      <th>&amp; Facts.1</th>\n",
       "      <th>https://www.britannica.com/biography/Leslie-Lamport;</th>\n",
       "    </tr>\n",
       "  </thead>\n",
       "  <tbody>\n",
       "  </tbody>\n",
       "</table>\n",
       "</div>"
      ],
      "text/plain": [
       "Empty DataFrame\n",
       "Columns: [Leslie Lamport - Wikipedia,  la enciclopedia libre, https://es.wikipedia.org/wiki/Leslie_Lamport;Leslie Lamport's Home Page, http://www.lamport.org/;Leslie Lamport at Microsoft Research, https://www.microsoft.com/en-us/research/people/lamport/;Leslie Lamport - Ciberninjas, https://ciberninjas.com/leslie-lamport/;Leslie Lamport - A.M. Turing Award Laureate, https://amturing.acm.org/award_winners/lamport_1205376.cfm;Leslie Lamport | Turing Award,  Biography,  & Facts, https://www.britannica.com/biography/Leslie-Lamport;Leslie Lamport - Wikipedia,  la enciclopedia libre.1, https://es.wikipedia.org/wiki/Leslie_Lamport;Leslie Lamport's Home Page.1, http://www.lamport.org/;Leslie Lamport at Microsoft Research.1, https://www.microsoft.com/en-us/research/people/lamport/;Leslie Lamport - Ciberninjas.1, https://ciberninjas.com/leslie-lamport/;Leslie Lamport - A.M. Turing Award Laureate.1, https://amturing.acm.org/award_winners/lamport_1205376.cfm;Leslie Lamport | Turing Award.1,  Biography.1,  & Facts.1, https://www.britannica.com/biography/Leslie-Lamport;]\n",
       "Index: []"
      ]
     },
     "execution_count": 32,
     "metadata": {},
     "output_type": "execute_result"
    }
   ],
   "source": [
    "dataframe"
   ]
  }
 ],
 "metadata": {
  "kernelspec": {
   "display_name": "Python 3 (ipykernel)",
   "language": "python",
   "name": "python3"
  },
  "language_info": {
   "codemirror_mode": {
    "name": "ipython",
    "version": 3
   },
   "file_extension": ".py",
   "mimetype": "text/x-python",
   "name": "python",
   "nbconvert_exporter": "python",
   "pygments_lexer": "ipython3",
   "version": "3.10.5"
  },
  "vscode": {
   "interpreter": {
    "hash": "a42ccb73e7d9bfdf27e036f1d2b8b681e55fc0743cc5586bc2474d4a60f4b886"
   }
  }
 },
 "nbformat": 4,
 "nbformat_minor": 2
}
